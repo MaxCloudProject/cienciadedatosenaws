{
 "cells": [
  {
   "cell_type": "markdown",
   "id": "aa1c3c4e-4790-4894-9ec4-4b26c53ef4b4",
   "metadata": {
    "tags": []
   },
   "source": [
    "# Analysis exploratorio - Titanic"
   ]
  },
  {
   "cell_type": "markdown",
   "id": "12ef3695-792e-48bf-9403-925cabfc5cc9",
   "metadata": {
    "tags": []
   },
   "source": [
    "Vamos a realizar un analisis para poder entender nuestros datos"
   ]
  },
  {
   "cell_type": "markdown",
   "id": "ae8742a9-609f-400a-94d4-29369146a3c6",
   "metadata": {
    "tags": []
   },
   "source": [
    "## 1 Cargamos y describimos la data"
   ]
  },
  {
   "cell_type": "code",
   "execution_count": 1,
   "id": "4308f2a0-f0a7-4b3f-b582-f0bd4b5ae09e",
   "metadata": {
    "tags": []
   },
   "outputs": [],
   "source": [
    "# Cargamos las librerias necesarias\n",
    "import numpy as np\n",
    "import pandas as pd"
   ]
  },
  {
   "cell_type": "code",
   "execution_count": 2,
   "id": "452bc702-263e-4dd0-aa53-15a35590b3ec",
   "metadata": {
    "tags": []
   },
   "outputs": [],
   "source": [
    "data = pd.read_csv(\"cienciadedatosenaws/episodio1/data.csv\")"
   ]
  },
  {
   "cell_type": "code",
   "execution_count": 3,
   "id": "261ea704-a0ca-4233-a670-4a66dbd8858d",
   "metadata": {
    "tags": []
   },
   "outputs": [
    {
     "data": {
      "text/html": [
       "<div>\n",
       "<style scoped>\n",
       "    .dataframe tbody tr th:only-of-type {\n",
       "        vertical-align: middle;\n",
       "    }\n",
       "\n",
       "    .dataframe tbody tr th {\n",
       "        vertical-align: top;\n",
       "    }\n",
       "\n",
       "    .dataframe thead th {\n",
       "        text-align: right;\n",
       "    }\n",
       "</style>\n",
       "<table border=\"1\" class=\"dataframe\">\n",
       "  <thead>\n",
       "    <tr style=\"text-align: right;\">\n",
       "      <th></th>\n",
       "      <th>PassengerId</th>\n",
       "      <th>Survived</th>\n",
       "      <th>Pclass</th>\n",
       "      <th>Name</th>\n",
       "      <th>Sex</th>\n",
       "      <th>Age</th>\n",
       "      <th>SibSp</th>\n",
       "      <th>Parch</th>\n",
       "      <th>Ticket</th>\n",
       "      <th>Fare</th>\n",
       "      <th>Cabin</th>\n",
       "      <th>Embarked</th>\n",
       "    </tr>\n",
       "  </thead>\n",
       "  <tbody>\n",
       "    <tr>\n",
       "      <th>0</th>\n",
       "      <td>892</td>\n",
       "      <td>0</td>\n",
       "      <td>3</td>\n",
       "      <td>Kelly, Mr. James</td>\n",
       "      <td>male</td>\n",
       "      <td>34.5</td>\n",
       "      <td>0</td>\n",
       "      <td>0</td>\n",
       "      <td>330911</td>\n",
       "      <td>7.8292</td>\n",
       "      <td>NaN</td>\n",
       "      <td>Q</td>\n",
       "    </tr>\n",
       "    <tr>\n",
       "      <th>1</th>\n",
       "      <td>893</td>\n",
       "      <td>1</td>\n",
       "      <td>3</td>\n",
       "      <td>Wilkes, Mrs. James (Ellen Needs)</td>\n",
       "      <td>female</td>\n",
       "      <td>47.0</td>\n",
       "      <td>1</td>\n",
       "      <td>0</td>\n",
       "      <td>363272</td>\n",
       "      <td>7.0000</td>\n",
       "      <td>NaN</td>\n",
       "      <td>S</td>\n",
       "    </tr>\n",
       "    <tr>\n",
       "      <th>2</th>\n",
       "      <td>894</td>\n",
       "      <td>0</td>\n",
       "      <td>2</td>\n",
       "      <td>Myles, Mr. Thomas Francis</td>\n",
       "      <td>male</td>\n",
       "      <td>62.0</td>\n",
       "      <td>0</td>\n",
       "      <td>0</td>\n",
       "      <td>240276</td>\n",
       "      <td>9.6875</td>\n",
       "      <td>NaN</td>\n",
       "      <td>Q</td>\n",
       "    </tr>\n",
       "    <tr>\n",
       "      <th>3</th>\n",
       "      <td>895</td>\n",
       "      <td>0</td>\n",
       "      <td>3</td>\n",
       "      <td>Wirz, Mr. Albert</td>\n",
       "      <td>male</td>\n",
       "      <td>27.0</td>\n",
       "      <td>0</td>\n",
       "      <td>0</td>\n",
       "      <td>315154</td>\n",
       "      <td>8.6625</td>\n",
       "      <td>NaN</td>\n",
       "      <td>S</td>\n",
       "    </tr>\n",
       "    <tr>\n",
       "      <th>4</th>\n",
       "      <td>896</td>\n",
       "      <td>1</td>\n",
       "      <td>3</td>\n",
       "      <td>Hirvonen, Mrs. Alexander (Helga E Lindqvist)</td>\n",
       "      <td>female</td>\n",
       "      <td>22.0</td>\n",
       "      <td>1</td>\n",
       "      <td>1</td>\n",
       "      <td>3101298</td>\n",
       "      <td>12.2875</td>\n",
       "      <td>NaN</td>\n",
       "      <td>S</td>\n",
       "    </tr>\n",
       "    <tr>\n",
       "      <th>...</th>\n",
       "      <td>...</td>\n",
       "      <td>...</td>\n",
       "      <td>...</td>\n",
       "      <td>...</td>\n",
       "      <td>...</td>\n",
       "      <td>...</td>\n",
       "      <td>...</td>\n",
       "      <td>...</td>\n",
       "      <td>...</td>\n",
       "      <td>...</td>\n",
       "      <td>...</td>\n",
       "      <td>...</td>\n",
       "    </tr>\n",
       "    <tr>\n",
       "      <th>413</th>\n",
       "      <td>1305</td>\n",
       "      <td>0</td>\n",
       "      <td>3</td>\n",
       "      <td>Spector, Mr. Woolf</td>\n",
       "      <td>male</td>\n",
       "      <td>NaN</td>\n",
       "      <td>0</td>\n",
       "      <td>0</td>\n",
       "      <td>A.5. 3236</td>\n",
       "      <td>8.0500</td>\n",
       "      <td>NaN</td>\n",
       "      <td>S</td>\n",
       "    </tr>\n",
       "    <tr>\n",
       "      <th>414</th>\n",
       "      <td>1306</td>\n",
       "      <td>1</td>\n",
       "      <td>1</td>\n",
       "      <td>Oliva y Ocana, Dona. Fermina</td>\n",
       "      <td>female</td>\n",
       "      <td>39.0</td>\n",
       "      <td>0</td>\n",
       "      <td>0</td>\n",
       "      <td>PC 17758</td>\n",
       "      <td>108.9000</td>\n",
       "      <td>C105</td>\n",
       "      <td>C</td>\n",
       "    </tr>\n",
       "    <tr>\n",
       "      <th>415</th>\n",
       "      <td>1307</td>\n",
       "      <td>0</td>\n",
       "      <td>3</td>\n",
       "      <td>Saether, Mr. Simon Sivertsen</td>\n",
       "      <td>male</td>\n",
       "      <td>38.5</td>\n",
       "      <td>0</td>\n",
       "      <td>0</td>\n",
       "      <td>SOTON/O.Q. 3101262</td>\n",
       "      <td>7.2500</td>\n",
       "      <td>NaN</td>\n",
       "      <td>S</td>\n",
       "    </tr>\n",
       "    <tr>\n",
       "      <th>416</th>\n",
       "      <td>1308</td>\n",
       "      <td>0</td>\n",
       "      <td>3</td>\n",
       "      <td>Ware, Mr. Frederick</td>\n",
       "      <td>male</td>\n",
       "      <td>NaN</td>\n",
       "      <td>0</td>\n",
       "      <td>0</td>\n",
       "      <td>359309</td>\n",
       "      <td>8.0500</td>\n",
       "      <td>NaN</td>\n",
       "      <td>S</td>\n",
       "    </tr>\n",
       "    <tr>\n",
       "      <th>417</th>\n",
       "      <td>1309</td>\n",
       "      <td>0</td>\n",
       "      <td>3</td>\n",
       "      <td>Peter, Master. Michael J</td>\n",
       "      <td>male</td>\n",
       "      <td>NaN</td>\n",
       "      <td>1</td>\n",
       "      <td>1</td>\n",
       "      <td>2668</td>\n",
       "      <td>22.3583</td>\n",
       "      <td>NaN</td>\n",
       "      <td>C</td>\n",
       "    </tr>\n",
       "  </tbody>\n",
       "</table>\n",
       "<p>418 rows × 12 columns</p>\n",
       "</div>"
      ],
      "text/plain": [
       "     PassengerId  Survived  Pclass  \\\n",
       "0            892         0       3   \n",
       "1            893         1       3   \n",
       "2            894         0       2   \n",
       "3            895         0       3   \n",
       "4            896         1       3   \n",
       "..           ...       ...     ...   \n",
       "413         1305         0       3   \n",
       "414         1306         1       1   \n",
       "415         1307         0       3   \n",
       "416         1308         0       3   \n",
       "417         1309         0       3   \n",
       "\n",
       "                                             Name     Sex   Age  SibSp  Parch  \\\n",
       "0                                Kelly, Mr. James    male  34.5      0      0   \n",
       "1                Wilkes, Mrs. James (Ellen Needs)  female  47.0      1      0   \n",
       "2                       Myles, Mr. Thomas Francis    male  62.0      0      0   \n",
       "3                                Wirz, Mr. Albert    male  27.0      0      0   \n",
       "4    Hirvonen, Mrs. Alexander (Helga E Lindqvist)  female  22.0      1      1   \n",
       "..                                            ...     ...   ...    ...    ...   \n",
       "413                            Spector, Mr. Woolf    male   NaN      0      0   \n",
       "414                  Oliva y Ocana, Dona. Fermina  female  39.0      0      0   \n",
       "415                  Saether, Mr. Simon Sivertsen    male  38.5      0      0   \n",
       "416                           Ware, Mr. Frederick    male   NaN      0      0   \n",
       "417                      Peter, Master. Michael J    male   NaN      1      1   \n",
       "\n",
       "                 Ticket      Fare Cabin Embarked  \n",
       "0                330911    7.8292   NaN        Q  \n",
       "1                363272    7.0000   NaN        S  \n",
       "2                240276    9.6875   NaN        Q  \n",
       "3                315154    8.6625   NaN        S  \n",
       "4               3101298   12.2875   NaN        S  \n",
       "..                  ...       ...   ...      ...  \n",
       "413           A.5. 3236    8.0500   NaN        S  \n",
       "414            PC 17758  108.9000  C105        C  \n",
       "415  SOTON/O.Q. 3101262    7.2500   NaN        S  \n",
       "416              359309    8.0500   NaN        S  \n",
       "417                2668   22.3583   NaN        C  \n",
       "\n",
       "[418 rows x 12 columns]"
      ]
     },
     "execution_count": 3,
     "metadata": {},
     "output_type": "execute_result"
    }
   ],
   "source": [
    "data"
   ]
  },
  {
   "cell_type": "code",
   "execution_count": 4,
   "id": "7c2a56d3-bfaf-425a-95b6-43b89deb7a9d",
   "metadata": {
    "tags": []
   },
   "outputs": [
    {
     "data": {
      "text/plain": [
       "(418, 12)"
      ]
     },
     "execution_count": 4,
     "metadata": {},
     "output_type": "execute_result"
    }
   ],
   "source": [
    "data.shape"
   ]
  },
  {
   "cell_type": "code",
   "execution_count": 5,
   "id": "d5d5e489-db51-4ef1-a594-bdccb007db69",
   "metadata": {
    "tags": []
   },
   "outputs": [
    {
     "data": {
      "text/plain": [
       "PassengerId      int64\n",
       "Survived         int64\n",
       "Pclass           int64\n",
       "Name            object\n",
       "Sex             object\n",
       "Age            float64\n",
       "SibSp            int64\n",
       "Parch            int64\n",
       "Ticket          object\n",
       "Fare           float64\n",
       "Cabin           object\n",
       "Embarked        object\n",
       "dtype: object"
      ]
     },
     "execution_count": 5,
     "metadata": {},
     "output_type": "execute_result"
    }
   ],
   "source": [
    "data.dtypes"
   ]
  },
  {
   "cell_type": "code",
   "execution_count": 6,
   "id": "e7b56160-6d31-49ff-a62b-dae2e49e0824",
   "metadata": {
    "tags": []
   },
   "outputs": [
    {
     "data": {
      "text/html": [
       "<div>\n",
       "<style scoped>\n",
       "    .dataframe tbody tr th:only-of-type {\n",
       "        vertical-align: middle;\n",
       "    }\n",
       "\n",
       "    .dataframe tbody tr th {\n",
       "        vertical-align: top;\n",
       "    }\n",
       "\n",
       "    .dataframe thead th {\n",
       "        text-align: right;\n",
       "    }\n",
       "</style>\n",
       "<table border=\"1\" class=\"dataframe\">\n",
       "  <thead>\n",
       "    <tr style=\"text-align: right;\">\n",
       "      <th></th>\n",
       "      <th>PassengerId</th>\n",
       "      <th>Survived</th>\n",
       "      <th>Pclass</th>\n",
       "      <th>Age</th>\n",
       "      <th>SibSp</th>\n",
       "      <th>Parch</th>\n",
       "      <th>Fare</th>\n",
       "    </tr>\n",
       "  </thead>\n",
       "  <tbody>\n",
       "    <tr>\n",
       "      <th>count</th>\n",
       "      <td>418.000000</td>\n",
       "      <td>418.000000</td>\n",
       "      <td>418.000000</td>\n",
       "      <td>332.000000</td>\n",
       "      <td>418.000000</td>\n",
       "      <td>418.000000</td>\n",
       "      <td>417.000000</td>\n",
       "    </tr>\n",
       "    <tr>\n",
       "      <th>mean</th>\n",
       "      <td>1100.500000</td>\n",
       "      <td>0.363636</td>\n",
       "      <td>2.265550</td>\n",
       "      <td>30.272590</td>\n",
       "      <td>0.447368</td>\n",
       "      <td>0.392344</td>\n",
       "      <td>35.627188</td>\n",
       "    </tr>\n",
       "    <tr>\n",
       "      <th>std</th>\n",
       "      <td>120.810458</td>\n",
       "      <td>0.481622</td>\n",
       "      <td>0.841838</td>\n",
       "      <td>14.181209</td>\n",
       "      <td>0.896760</td>\n",
       "      <td>0.981429</td>\n",
       "      <td>55.907576</td>\n",
       "    </tr>\n",
       "    <tr>\n",
       "      <th>min</th>\n",
       "      <td>892.000000</td>\n",
       "      <td>0.000000</td>\n",
       "      <td>1.000000</td>\n",
       "      <td>0.170000</td>\n",
       "      <td>0.000000</td>\n",
       "      <td>0.000000</td>\n",
       "      <td>0.000000</td>\n",
       "    </tr>\n",
       "    <tr>\n",
       "      <th>25%</th>\n",
       "      <td>996.250000</td>\n",
       "      <td>0.000000</td>\n",
       "      <td>1.000000</td>\n",
       "      <td>21.000000</td>\n",
       "      <td>0.000000</td>\n",
       "      <td>0.000000</td>\n",
       "      <td>7.895800</td>\n",
       "    </tr>\n",
       "    <tr>\n",
       "      <th>50%</th>\n",
       "      <td>1100.500000</td>\n",
       "      <td>0.000000</td>\n",
       "      <td>3.000000</td>\n",
       "      <td>27.000000</td>\n",
       "      <td>0.000000</td>\n",
       "      <td>0.000000</td>\n",
       "      <td>14.454200</td>\n",
       "    </tr>\n",
       "    <tr>\n",
       "      <th>75%</th>\n",
       "      <td>1204.750000</td>\n",
       "      <td>1.000000</td>\n",
       "      <td>3.000000</td>\n",
       "      <td>39.000000</td>\n",
       "      <td>1.000000</td>\n",
       "      <td>0.000000</td>\n",
       "      <td>31.500000</td>\n",
       "    </tr>\n",
       "    <tr>\n",
       "      <th>max</th>\n",
       "      <td>1309.000000</td>\n",
       "      <td>1.000000</td>\n",
       "      <td>3.000000</td>\n",
       "      <td>76.000000</td>\n",
       "      <td>8.000000</td>\n",
       "      <td>9.000000</td>\n",
       "      <td>512.329200</td>\n",
       "    </tr>\n",
       "  </tbody>\n",
       "</table>\n",
       "</div>"
      ],
      "text/plain": [
       "       PassengerId    Survived      Pclass         Age       SibSp  \\\n",
       "count   418.000000  418.000000  418.000000  332.000000  418.000000   \n",
       "mean   1100.500000    0.363636    2.265550   30.272590    0.447368   \n",
       "std     120.810458    0.481622    0.841838   14.181209    0.896760   \n",
       "min     892.000000    0.000000    1.000000    0.170000    0.000000   \n",
       "25%     996.250000    0.000000    1.000000   21.000000    0.000000   \n",
       "50%    1100.500000    0.000000    3.000000   27.000000    0.000000   \n",
       "75%    1204.750000    1.000000    3.000000   39.000000    1.000000   \n",
       "max    1309.000000    1.000000    3.000000   76.000000    8.000000   \n",
       "\n",
       "            Parch        Fare  \n",
       "count  418.000000  417.000000  \n",
       "mean     0.392344   35.627188  \n",
       "std      0.981429   55.907576  \n",
       "min      0.000000    0.000000  \n",
       "25%      0.000000    7.895800  \n",
       "50%      0.000000   14.454200  \n",
       "75%      0.000000   31.500000  \n",
       "max      9.000000  512.329200  "
      ]
     },
     "execution_count": 6,
     "metadata": {},
     "output_type": "execute_result"
    }
   ],
   "source": [
    "data.describe()"
   ]
  },
  {
   "cell_type": "markdown",
   "id": "71e76592-9151-426a-b9d1-7f2e74bbac9c",
   "metadata": {},
   "source": [
    "Vamos a ver que variables categoricas tenemos en el dataset"
   ]
  },
  {
   "cell_type": "code",
   "execution_count": 7,
   "id": "054921b5-42ad-45a2-942d-ba343c00c353",
   "metadata": {
    "tags": []
   },
   "outputs": [
    {
     "name": "stdout",
     "output_type": "stream",
     "text": [
      "Index(['Name', 'Sex', 'Ticket', 'Cabin', 'Embarked'], dtype='object')\n"
     ]
    },
    {
     "data": {
      "text/html": [
       "<div>\n",
       "<style scoped>\n",
       "    .dataframe tbody tr th:only-of-type {\n",
       "        vertical-align: middle;\n",
       "    }\n",
       "\n",
       "    .dataframe tbody tr th {\n",
       "        vertical-align: top;\n",
       "    }\n",
       "\n",
       "    .dataframe thead th {\n",
       "        text-align: right;\n",
       "    }\n",
       "</style>\n",
       "<table border=\"1\" class=\"dataframe\">\n",
       "  <thead>\n",
       "    <tr style=\"text-align: right;\">\n",
       "      <th></th>\n",
       "      <th>Name</th>\n",
       "      <th>Sex</th>\n",
       "      <th>Ticket</th>\n",
       "      <th>Cabin</th>\n",
       "      <th>Embarked</th>\n",
       "    </tr>\n",
       "  </thead>\n",
       "  <tbody>\n",
       "    <tr>\n",
       "      <th>count</th>\n",
       "      <td>418</td>\n",
       "      <td>418</td>\n",
       "      <td>418</td>\n",
       "      <td>91</td>\n",
       "      <td>418</td>\n",
       "    </tr>\n",
       "    <tr>\n",
       "      <th>unique</th>\n",
       "      <td>418</td>\n",
       "      <td>2</td>\n",
       "      <td>363</td>\n",
       "      <td>76</td>\n",
       "      <td>3</td>\n",
       "    </tr>\n",
       "    <tr>\n",
       "      <th>top</th>\n",
       "      <td>Kelly, Mr. James</td>\n",
       "      <td>male</td>\n",
       "      <td>PC 17608</td>\n",
       "      <td>B57 B59 B63 B66</td>\n",
       "      <td>S</td>\n",
       "    </tr>\n",
       "    <tr>\n",
       "      <th>freq</th>\n",
       "      <td>1</td>\n",
       "      <td>266</td>\n",
       "      <td>5</td>\n",
       "      <td>3</td>\n",
       "      <td>270</td>\n",
       "    </tr>\n",
       "  </tbody>\n",
       "</table>\n",
       "</div>"
      ],
      "text/plain": [
       "                    Name   Sex    Ticket            Cabin Embarked\n",
       "count                418   418       418               91      418\n",
       "unique               418     2       363               76        3\n",
       "top     Kelly, Mr. James  male  PC 17608  B57 B59 B63 B66        S\n",
       "freq                   1   266         5                3      270"
      ]
     },
     "execution_count": 7,
     "metadata": {},
     "output_type": "execute_result"
    }
   ],
   "source": [
    "categorical = data.dtypes[data.dtypes == \"object\"].index\n",
    "print(categorical)\n",
    "data[categorical].describe()"
   ]
  },
  {
   "cell_type": "code",
   "execution_count": 8,
   "id": "27abef28-6ac7-4af2-86cf-cd3011ca3405",
   "metadata": {
    "tags": []
   },
   "outputs": [
    {
     "data": {
      "text/html": [
       "<div>\n",
       "<style scoped>\n",
       "    .dataframe tbody tr th:only-of-type {\n",
       "        vertical-align: middle;\n",
       "    }\n",
       "\n",
       "    .dataframe tbody tr th {\n",
       "        vertical-align: top;\n",
       "    }\n",
       "\n",
       "    .dataframe thead th {\n",
       "        text-align: right;\n",
       "    }\n",
       "</style>\n",
       "<table border=\"1\" class=\"dataframe\">\n",
       "  <thead>\n",
       "    <tr style=\"text-align: right;\">\n",
       "      <th></th>\n",
       "      <th>Name</th>\n",
       "      <th>Sex</th>\n",
       "      <th>Ticket</th>\n",
       "      <th>Cabin</th>\n",
       "      <th>Embarked</th>\n",
       "    </tr>\n",
       "  </thead>\n",
       "  <tbody>\n",
       "    <tr>\n",
       "      <th>count</th>\n",
       "      <td>418</td>\n",
       "      <td>418</td>\n",
       "      <td>418</td>\n",
       "      <td>91</td>\n",
       "      <td>418</td>\n",
       "    </tr>\n",
       "    <tr>\n",
       "      <th>unique</th>\n",
       "      <td>418</td>\n",
       "      <td>2</td>\n",
       "      <td>363</td>\n",
       "      <td>76</td>\n",
       "      <td>3</td>\n",
       "    </tr>\n",
       "    <tr>\n",
       "      <th>top</th>\n",
       "      <td>Kelly, Mr. James</td>\n",
       "      <td>male</td>\n",
       "      <td>PC 17608</td>\n",
       "      <td>B57 B59 B63 B66</td>\n",
       "      <td>S</td>\n",
       "    </tr>\n",
       "    <tr>\n",
       "      <th>freq</th>\n",
       "      <td>1</td>\n",
       "      <td>266</td>\n",
       "      <td>5</td>\n",
       "      <td>3</td>\n",
       "      <td>270</td>\n",
       "    </tr>\n",
       "  </tbody>\n",
       "</table>\n",
       "</div>"
      ],
      "text/plain": [
       "                    Name   Sex    Ticket            Cabin Embarked\n",
       "count                418   418       418               91      418\n",
       "unique               418     2       363               76        3\n",
       "top     Kelly, Mr. James  male  PC 17608  B57 B59 B63 B66        S\n",
       "freq                   1   266         5                3      270"
      ]
     },
     "execution_count": 8,
     "metadata": {},
     "output_type": "execute_result"
    }
   ],
   "source": [
    "data[['Name', 'Sex', 'Ticket', 'Cabin', 'Embarked']].describe()"
   ]
  },
  {
   "cell_type": "markdown",
   "id": "0397737a-b999-4ff4-b8e9-8ab061012eea",
   "metadata": {
    "tags": []
   },
   "source": [
    "## 2 ¿Necesitamos todas las variables?"
   ]
  },
  {
   "cell_type": "markdown",
   "id": "50358604-1360-40e9-b4c5-0cf8d7cb4267",
   "metadata": {
    "tags": []
   },
   "source": [
    "PassengerId: Es un numero asignado de manera aleatoria, no es muy probable que nos vaya a ofrecer informacion relevante"
   ]
  },
  {
   "cell_type": "markdown",
   "id": "460dbda3-f413-4326-8f3f-2027c85240c9",
   "metadata": {
    "tags": []
   },
   "source": [
    "Survived: Indica si un pasajero sobrevivio o no"
   ]
  },
  {
   "cell_type": "markdown",
   "id": "71bb39ba-c8c1-49a9-ba38-93ca3b86b35b",
   "metadata": {
    "tags": []
   },
   "source": [
    "Las variables que describen mejor numericamente a los pasajeros son: Pclass, Sex, Age, SibSp, Parch, Fare y Embarked"
   ]
  },
  {
   "cell_type": "markdown",
   "id": "e6916506-734a-4136-a79d-fb6248a810bd",
   "metadata": {},
   "source": [
    "Tenemos 3 categorias para considerar: Name, Ticket and Cabin."
   ]
  },
  {
   "cell_type": "code",
   "execution_count": 9,
   "id": "3e5bcbe5-9102-48bb-9cbf-70e78d7f4f24",
   "metadata": {
    "tags": []
   },
   "outputs": [
    {
     "data": {
      "text/plain": [
       "0                                      Kelly, Mr. James\n",
       "1                      Wilkes, Mrs. James (Ellen Needs)\n",
       "2                             Myles, Mr. Thomas Francis\n",
       "3                                      Wirz, Mr. Albert\n",
       "4          Hirvonen, Mrs. Alexander (Helga E Lindqvist)\n",
       "5                            Svensson, Mr. Johan Cervin\n",
       "6                                  Connolly, Miss. Kate\n",
       "7                          Caldwell, Mr. Albert Francis\n",
       "8             Abrahim, Mrs. Joseph (Sophie Halaut Easu)\n",
       "9                               Davies, Mr. John Samuel\n",
       "10                                     Ilieff, Mr. Ylio\n",
       "11                           Jones, Mr. Charles Cresson\n",
       "12        Snyder, Mrs. John Pillsbury (Nelle Stevenson)\n",
       "13                                 Howard, Mr. Benjamin\n",
       "14    Chaffee, Mrs. Herbert Fuller (Carrie Constance...\n",
       "Name: Name, dtype: object"
      ]
     },
     "execution_count": 9,
     "metadata": {},
     "output_type": "execute_result"
    }
   ],
   "source": [
    "data[\"Name\"].head(15)"
   ]
  },
  {
   "cell_type": "code",
   "execution_count": 10,
   "id": "57ad4c4c-bcbe-4df6-bebf-f979ca0ee99b",
   "metadata": {
    "tags": []
   },
   "outputs": [
    {
     "data": {
      "text/plain": [
       "count                  418\n",
       "unique                 418\n",
       "top       Kelly, Mr. James\n",
       "freq                     1\n",
       "Name: Name, dtype: object"
      ]
     },
     "execution_count": 10,
     "metadata": {},
     "output_type": "execute_result"
    }
   ],
   "source": [
    "data[\"Name\"].describe()"
   ]
  },
  {
   "cell_type": "code",
   "execution_count": 11,
   "id": "036f15c2-a3c4-4abc-8b18-d7cddad88c0f",
   "metadata": {
    "tags": []
   },
   "outputs": [
    {
     "data": {
      "text/plain": [
       "0          330911\n",
       "1          363272\n",
       "2          240276\n",
       "3          315154\n",
       "4         3101298\n",
       "5            7538\n",
       "6          330972\n",
       "7          248738\n",
       "8            2657\n",
       "9       A/4 48871\n",
       "10         349220\n",
       "11            694\n",
       "12          21228\n",
       "13          24065\n",
       "14    W.E.P. 5734\n",
       "Name: Ticket, dtype: object"
      ]
     },
     "execution_count": 11,
     "metadata": {},
     "output_type": "execute_result"
    }
   ],
   "source": [
    "data[\"Ticket\"].head(15) "
   ]
  },
  {
   "cell_type": "code",
   "execution_count": 12,
   "id": "035ce177-dddf-4411-aa2a-4f08409eb6eb",
   "metadata": {
    "tags": []
   },
   "outputs": [
    {
     "data": {
      "text/plain": [
       "count          418\n",
       "unique         363\n",
       "top       PC 17608\n",
       "freq             5\n",
       "Name: Ticket, dtype: object"
      ]
     },
     "execution_count": 12,
     "metadata": {},
     "output_type": "execute_result"
    }
   ],
   "source": [
    "data[\"Ticket\"].describe()"
   ]
  },
  {
   "cell_type": "code",
   "execution_count": 13,
   "id": "cd28510b-97b0-453a-ae9c-d083239fd629",
   "metadata": {
    "tags": []
   },
   "outputs": [
    {
     "data": {
      "text/plain": [
       "0     NaN\n",
       "1     NaN\n",
       "2     NaN\n",
       "3     NaN\n",
       "4     NaN\n",
       "5     NaN\n",
       "6     NaN\n",
       "7     NaN\n",
       "8     NaN\n",
       "9     NaN\n",
       "10    NaN\n",
       "11    NaN\n",
       "12    B45\n",
       "13    NaN\n",
       "14    E31\n",
       "Name: Cabin, dtype: object"
      ]
     },
     "execution_count": 13,
     "metadata": {},
     "output_type": "execute_result"
    }
   ],
   "source": [
    "data[\"Cabin\"].head(15)"
   ]
  },
  {
   "cell_type": "code",
   "execution_count": 14,
   "id": "918efbec-1d59-497c-9597-0da2725fa43f",
   "metadata": {
    "tags": []
   },
   "outputs": [
    {
     "data": {
      "text/plain": [
       "count                  91\n",
       "unique                 76\n",
       "top       B57 B59 B63 B66\n",
       "freq                    3\n",
       "Name: Cabin, dtype: object"
      ]
     },
     "execution_count": 14,
     "metadata": {},
     "output_type": "execute_result"
    }
   ],
   "source": [
    "data[\"Cabin\"].describe()"
   ]
  },
  {
   "cell_type": "markdown",
   "id": "faa8097f-6eb2-49a1-87f8-6f63befd092d",
   "metadata": {
    "tags": []
   },
   "source": [
    "Eliminamos las columnas que no ayudan a nuestro analisis"
   ]
  },
  {
   "cell_type": "code",
   "execution_count": 15,
   "id": "f4090d16-af0c-45f6-928a-e4843496c2f7",
   "metadata": {},
   "outputs": [],
   "source": [
    "del data[\"PassengerId\"]\n",
    "del data[\"Ticket\"]"
   ]
  },
  {
   "cell_type": "markdown",
   "id": "4d55f711-21ff-45c6-828f-5c09ddec8822",
   "metadata": {},
   "source": [
    "## 3 ¿Deberiamos transformar algunas variables?"
   ]
  },
  {
   "cell_type": "markdown",
   "id": "13c3be6f-83a8-4758-a972-a6307b31038d",
   "metadata": {},
   "source": [
    "Survived: deberiamos convertirlo a una variable categorica"
   ]
  },
  {
   "cell_type": "code",
   "execution_count": 16,
   "id": "01082d77-c4a2-4dd9-b8f8-20f6602fba56",
   "metadata": {
    "tags": []
   },
   "outputs": [
    {
     "name": "stdout",
     "output_type": "stream",
     "text": [
      "[0, 1, 0, 0, 1, ..., 0, 1, 0, 0, 0]\n",
      "Length: 418\n",
      "Categories (2, int64): [0, 1]\n"
     ]
    },
    {
     "data": {
      "text/plain": [
       "['Died', 'Survived', 'Died', 'Died', 'Survived', ..., 'Died', 'Survived', 'Died', 'Died', 'Died']\n",
       "Length: 418\n",
       "Categories (2, object): ['Died', 'Survived']"
      ]
     },
     "execution_count": 16,
     "metadata": {},
     "output_type": "execute_result"
    }
   ],
   "source": [
    "new_survived = pd.Categorical(data[\"Survived\"])\n",
    "print(new_survived)\n",
    "new_survived = new_survived.rename_categories([\"Died\",\"Survived\"])\n",
    "new_survived"
   ]
  },
  {
   "cell_type": "code",
   "execution_count": 17,
   "id": "cc8a4aaf-afa4-463c-9e39-e9f2411e98fc",
   "metadata": {
    "tags": []
   },
   "outputs": [
    {
     "data": {
      "text/html": [
       "<div>\n",
       "<style scoped>\n",
       "    .dataframe tbody tr th:only-of-type {\n",
       "        vertical-align: middle;\n",
       "    }\n",
       "\n",
       "    .dataframe tbody tr th {\n",
       "        vertical-align: top;\n",
       "    }\n",
       "\n",
       "    .dataframe thead th {\n",
       "        text-align: right;\n",
       "    }\n",
       "</style>\n",
       "<table border=\"1\" class=\"dataframe\">\n",
       "  <thead>\n",
       "    <tr style=\"text-align: right;\">\n",
       "      <th></th>\n",
       "      <th>counts</th>\n",
       "      <th>freqs</th>\n",
       "    </tr>\n",
       "    <tr>\n",
       "      <th>categories</th>\n",
       "      <th></th>\n",
       "      <th></th>\n",
       "    </tr>\n",
       "  </thead>\n",
       "  <tbody>\n",
       "    <tr>\n",
       "      <th>Died</th>\n",
       "      <td>266</td>\n",
       "      <td>0.636364</td>\n",
       "    </tr>\n",
       "    <tr>\n",
       "      <th>Survived</th>\n",
       "      <td>152</td>\n",
       "      <td>0.363636</td>\n",
       "    </tr>\n",
       "  </tbody>\n",
       "</table>\n",
       "</div>"
      ],
      "text/plain": [
       "            counts     freqs\n",
       "categories                  \n",
       "Died           266  0.636364\n",
       "Survived       152  0.363636"
      ]
     },
     "execution_count": 17,
     "metadata": {},
     "output_type": "execute_result"
    }
   ],
   "source": [
    "new_survived.describe()"
   ]
  },
  {
   "cell_type": "code",
   "execution_count": 18,
   "id": "92396a97-061d-4445-b64e-f5c2b37e1d75",
   "metadata": {
    "tags": []
   },
   "outputs": [],
   "source": [
    "data[\"Survived\"] = new_survived"
   ]
  },
  {
   "cell_type": "markdown",
   "id": "a7ee9963-70de-43d6-93c8-b699f1177197",
   "metadata": {
    "tags": []
   },
   "source": [
    "Pclass: Indica la clase del pasajero"
   ]
  },
  {
   "cell_type": "code",
   "execution_count": 19,
   "id": "23aee880-14e9-4547-8604-441a3520483b",
   "metadata": {
    "tags": []
   },
   "outputs": [
    {
     "data": {
      "text/plain": [
       "[3, 3, 2, 3, 3, ..., 3, 1, 3, 3, 3]\n",
       "Length: 418\n",
       "Categories (3, int64): [1 < 2 < 3]"
      ]
     },
     "execution_count": 19,
     "metadata": {},
     "output_type": "execute_result"
    }
   ],
   "source": [
    "new_Pclass = pd.Categorical(data[\"Pclass\"],\n",
    "                           ordered=True)\n",
    "new_Pclass"
   ]
  },
  {
   "cell_type": "code",
   "execution_count": 20,
   "id": "c6234bb3-d54a-43b1-ad9e-52f13515ae64",
   "metadata": {
    "tags": []
   },
   "outputs": [
    {
     "data": {
      "text/plain": [
       "['Class3', 'Class3', 'Class2', 'Class3', 'Class3', ..., 'Class3', 'Class1', 'Class3', 'Class3', 'Class3']\n",
       "Length: 418\n",
       "Categories (3, object): ['Class1' < 'Class2' < 'Class3']"
      ]
     },
     "execution_count": 20,
     "metadata": {},
     "output_type": "execute_result"
    }
   ],
   "source": [
    "new_Pclass = new_Pclass.rename_categories([\"Class1\",\"Class2\",\"Class3\"])    \n",
    "new_Pclass"
   ]
  },
  {
   "cell_type": "code",
   "execution_count": 21,
   "id": "ca9183fc-3753-4205-8612-de243a024c49",
   "metadata": {
    "tags": []
   },
   "outputs": [
    {
     "data": {
      "text/html": [
       "<div>\n",
       "<style scoped>\n",
       "    .dataframe tbody tr th:only-of-type {\n",
       "        vertical-align: middle;\n",
       "    }\n",
       "\n",
       "    .dataframe tbody tr th {\n",
       "        vertical-align: top;\n",
       "    }\n",
       "\n",
       "    .dataframe thead th {\n",
       "        text-align: right;\n",
       "    }\n",
       "</style>\n",
       "<table border=\"1\" class=\"dataframe\">\n",
       "  <thead>\n",
       "    <tr style=\"text-align: right;\">\n",
       "      <th></th>\n",
       "      <th>counts</th>\n",
       "      <th>freqs</th>\n",
       "    </tr>\n",
       "    <tr>\n",
       "      <th>categories</th>\n",
       "      <th></th>\n",
       "      <th></th>\n",
       "    </tr>\n",
       "  </thead>\n",
       "  <tbody>\n",
       "    <tr>\n",
       "      <th>Class1</th>\n",
       "      <td>107</td>\n",
       "      <td>0.255981</td>\n",
       "    </tr>\n",
       "    <tr>\n",
       "      <th>Class2</th>\n",
       "      <td>93</td>\n",
       "      <td>0.222488</td>\n",
       "    </tr>\n",
       "    <tr>\n",
       "      <th>Class3</th>\n",
       "      <td>218</td>\n",
       "      <td>0.521531</td>\n",
       "    </tr>\n",
       "  </tbody>\n",
       "</table>\n",
       "</div>"
      ],
      "text/plain": [
       "            counts     freqs\n",
       "categories                  \n",
       "Class1         107  0.255981\n",
       "Class2          93  0.222488\n",
       "Class3         218  0.521531"
      ]
     },
     "execution_count": 21,
     "metadata": {},
     "output_type": "execute_result"
    }
   ],
   "source": [
    "new_Pclass.describe()"
   ]
  },
  {
   "cell_type": "code",
   "execution_count": 22,
   "id": "d1204b91-8bb3-4c62-95eb-aa0a16e642a9",
   "metadata": {
    "tags": []
   },
   "outputs": [],
   "source": [
    "data[\"Pclass\"] = new_Pclass"
   ]
  },
  {
   "cell_type": "markdown",
   "id": "427da5e8-da64-4129-9231-6d2e947ff4a5",
   "metadata": {},
   "source": [
    "Cabin: Indica la cabian del pasajero"
   ]
  },
  {
   "cell_type": "code",
   "execution_count": null,
   "id": "e9c8369f-11c3-4581-afd0-cb9824bb6e6f",
   "metadata": {
    "tags": []
   },
   "outputs": [],
   "source": [
    "data[\"Cabin\"].unique() "
   ]
  },
  {
   "cell_type": "code",
   "execution_count": null,
   "id": "eb98ee27-fea6-4ce3-8ff3-5e198f72b6c4",
   "metadata": {
    "tags": []
   },
   "outputs": [],
   "source": [
    "char_cabin = data[\"Cabin\"].astype(str) \n",
    "new_Cabin = np.array([cabin[0] for cabin in char_cabin])\n",
    "new_Cabin = pd.Categorical(new_Cabin)"
   ]
  },
  {
   "cell_type": "code",
   "execution_count": null,
   "id": "8fac379d-bb23-46b9-8c4e-12c55da6b8e3",
   "metadata": {
    "tags": []
   },
   "outputs": [],
   "source": [
    "new_Cabin .describe()"
   ]
  },
  {
   "cell_type": "code",
   "execution_count": null,
   "id": "69c36d1e-5c68-4016-8abb-2eed61a0d592",
   "metadata": {
    "tags": []
   },
   "outputs": [],
   "source": [
    "data[\"Cabin\"] = new_Cabin"
   ]
  },
  {
   "cell_type": "markdown",
   "id": "b6bc9c85-929e-4eca-8c36-32efc66d45f5",
   "metadata": {},
   "source": [
    "## 4 ¿Existen valores de NA, valores atípicos u otros valores extraños?"
   ]
  },
  {
   "cell_type": "code",
   "execution_count": null,
   "id": "3611fb8e-c410-413a-8fc3-2022fefc2ff9",
   "metadata": {
    "tags": []
   },
   "outputs": [],
   "source": [
    "data.isnull().sum()"
   ]
  },
  {
   "cell_type": "code",
   "execution_count": null,
   "id": "c2de5f42-e95b-4964-b925-9ae32ad6a6ff",
   "metadata": {
    "tags": []
   },
   "outputs": [],
   "source": [
    "data[\"Age\"].describe()"
   ]
  },
  {
   "cell_type": "markdown",
   "id": "a2fe9c14-7d05-4c82-907c-66bf2dca2b28",
   "metadata": {},
   "source": [
    "Observe que el recuento de edad (712) es menor que el recuento total de filas del conjunto de datos (889). Esto indica datos faltantes. Podemos obtener los índices de fila de los valores faltantes con np.where()"
   ]
  },
  {
   "cell_type": "code",
   "execution_count": null,
   "id": "ed95e4d5-34d0-4d6e-8775-8042367910cc",
   "metadata": {
    "tags": []
   },
   "outputs": [],
   "source": [
    "missing = np.where(data[\"Age\"].isnull() == True)\n",
    "missing"
   ]
  },
  {
   "cell_type": "code",
   "execution_count": null,
   "id": "ade898a4-2e35-4bcb-9f8e-fa0b72e65664",
   "metadata": {
    "tags": []
   },
   "outputs": [],
   "source": [
    "len(missing[0])"
   ]
  },
  {
   "cell_type": "markdown",
   "id": "d70c7e6e-d158-49c2-bd00-2fb86e127ab3",
   "metadata": {
    "tags": []
   },
   "source": [
    "Hay 86 valores nulos, no es una buena idea eliminar la columna, por que la edad es un factor importante para el analisis de este conjunto de datos. Podriamos tomar varias desiciones para llenar estos datos, algunos pueden ser:"
   ]
  },
  {
   "cell_type": "markdown",
   "id": "afee2334-a2cb-4994-9532-96fdb90531d2",
   "metadata": {},
   "source": [
    "Imputacion de datos\n",
    "- Llenar los valores con 0s\n",
    "- Llenar los valores con la media\n",
    "- Llenar los valores con la mediana"
   ]
  },
  {
   "cell_type": "markdown",
   "id": "13a14212-e252-4660-b9ec-92d697b590b5",
   "metadata": {
    "tags": []
   },
   "source": [
    "Para escojer la mejor solucion vamos a ver el histograma de la edad"
   ]
  },
  {
   "cell_type": "code",
   "execution_count": null,
   "id": "d5606413-d079-4415-a6e0-1150a29f9a04",
   "metadata": {
    "tags": []
   },
   "outputs": [],
   "source": [
    "data.hist(column='Age',             # Columna que deseamos graficar\n",
    "                   figsize=(9,6),   # Tamaño de la figura\n",
    "                   bins=20)         # Numero de cajas"
   ]
  },
  {
   "cell_type": "markdown",
   "id": "e1749ab0-a0fe-4ada-a85e-6a8c6c436166",
   "metadata": {},
   "source": [
    "La mayoria de edades aproximadamente se concentran en 22 y 26, asi que elegiremos el numero 24 para llenar los valores nulos "
   ]
  },
  {
   "cell_type": "code",
   "execution_count": null,
   "id": "46fb89eb-6799-44fe-8f2b-0f092e9fbe4b",
   "metadata": {
    "tags": []
   },
   "outputs": [],
   "source": [
    "new_age_var = np.where(data[\"Age\"].isnull(), # Logical check\n",
    "                       28,                       # Value if check is true\n",
    "                       data[\"Age\"])     # Value if check is false\n",
    "\n",
    "data[\"Age\"] = new_age_var "
   ]
  },
  {
   "cell_type": "code",
   "execution_count": null,
   "id": "4a7c3421-5cf8-4e3f-b50f-01b79c6b347a",
   "metadata": {
    "tags": []
   },
   "outputs": [],
   "source": [
    "data[\"Age\"].describe()"
   ]
  },
  {
   "cell_type": "markdown",
   "id": "e7ae25b0-dc7a-45ec-a01d-d9547689c315",
   "metadata": {
    "tags": []
   },
   "source": [
    "## 5 ¿Debeiamos crear nuevas variables?"
   ]
  },
  {
   "cell_type": "markdown",
   "id": "e6020a6a-3d9c-4a49-9f60-041cb7ea84ac",
   "metadata": {
    "tags": []
   },
   "source": [
    "Creemos una nueva variable, Familia, que combine SibSp y Parch para indicar el número total de familiares (hermanos, cónyuges, padres e hijos) que tiene un pasajero a bordo"
   ]
  },
  {
   "cell_type": "code",
   "execution_count": null,
   "id": "24df5af9-e1b4-4b93-b828-30627359a48b",
   "metadata": {
    "tags": []
   },
   "outputs": [],
   "source": [
    "data[\"Family\"] = data[\"SibSp\"] + data[\"Parch\"]\n",
    "most_family = np.where(data[\"Family\"] == max(data[\"Family\"]))\n",
    "most_family"
   ]
  },
  {
   "cell_type": "code",
   "execution_count": null,
   "id": "017987ca-a292-4a90-b7b1-530f31824048",
   "metadata": {
    "tags": []
   },
   "outputs": [],
   "source": [
    "data.loc[most_family]"
   ]
  },
  {
   "cell_type": "markdown",
   "id": "fa1c17d6-be15-4aa9-9887-9df48f54d5df",
   "metadata": {},
   "source": [
    "## 6 Conclusiones"
   ]
  },
  {
   "cell_type": "markdown",
   "id": "6774a5cf-c346-4a20-a4fe-0b0de5335a9c",
   "metadata": {},
   "source": [
    "- La mayoria de pasajero tiene entre 30 y 20 años\n",
    "- 152 Sobrevivientes y 266 fallecidos"
   ]
  }
 ],
 "metadata": {
  "kernelspec": {
   "display_name": "conda_python3",
   "language": "python",
   "name": "conda_python3"
  },
  "language_info": {
   "codemirror_mode": {
    "name": "ipython",
    "version": 3
   },
   "file_extension": ".py",
   "mimetype": "text/x-python",
   "name": "python",
   "nbconvert_exporter": "python",
   "pygments_lexer": "ipython3",
   "version": "3.10.12"
  }
 },
 "nbformat": 4,
 "nbformat_minor": 5
}
